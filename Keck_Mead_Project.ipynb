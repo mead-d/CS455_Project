{
 "cells": [
  {
   "cell_type": "code",
   "execution_count": 117,
   "id": "b8da57a8",
   "metadata": {},
   "outputs": [],
   "source": [
    "import os, glob\n",
    "import numpy as np\n",
    "import matplotlib.pyplot as plt\n",
    "import pandas as pd\n",
    "from PIL import Image, ImageOps\n",
    "from sklearn.ensemble import RandomForestClassifier, VotingClassifier\n",
    "from sklearn.svm import SVC\n",
    "from sklearn.neighbors import KNeighborsClassifier"
   ]
  },
  {
   "cell_type": "code",
   "execution_count": 118,
   "id": "8d392a32",
   "metadata": {},
   "outputs": [],
   "source": [
    "work_dir = \"C:/Users/hevyp/Documents/Jupyter_Workspace/AI_CS455/CS455_Project/happy-whale-and-dolphin/\""
   ]
  },
  {
   "cell_type": "code",
   "execution_count": 119,
   "id": "766dd588",
   "metadata": {},
   "outputs": [],
   "source": [
    "train_df = pd.read_csv(work_dir+ 'train.csv', usecols=['image', 'species'])"
   ]
  },
  {
   "cell_type": "code",
   "execution_count": 120,
   "id": "9b6f2c88",
   "metadata": {},
   "outputs": [],
   "source": [
    "def load_all_data(X_train, X_test, labels_train, w, max_photo):\n",
    "    for set in [\"train\", \"test\"]:\n",
    "        count = 0\n",
    "        image_dir = work_dir+ set+ \"_images\"\n",
    "        files = glob.glob(image_dir+ \"/*.jpg\")\n",
    "        for f in files[:max_photo]:\n",
    "            count +=1\n",
    "            print(set, \" file \", count, \" loading.\")\n",
    "            img = Image.open(f)\n",
    "            img = ImageOps.grayscale(img)\n",
    "            img = img.resize((w,w))\n",
    "            data = np.array(img)\n",
    "            if set == \"train\":\n",
    "                X_train.append(data)\n",
    "                labels_train.append(train_data[train_data[:,0] == f,2])\n",
    "            elif set == \"test\":\n",
    "                X_test.append(data)"
   ]
  },
  {
   "cell_type": "code",
   "execution_count": 133,
   "id": "b1af963a",
   "metadata": {},
   "outputs": [],
   "source": [
    "def load_split_traindata(max_photo, w = 64, split= 0.7, gray = False):\n",
    "    X_train = []\n",
    "    X_test = []\n",
    "    labels_train = []\n",
    "    labels_test = []\n",
    "    count = 0\n",
    "    image_dir = work_dir+ \"train_images\"\n",
    "    files = glob.glob(image_dir+ \"/*.jpg\")\n",
    "    \n",
    "    for data in train_df.iterrows():\n",
    "        f = data[1]['image']\n",
    "        f = os.path.join(image_dir, f)\n",
    "        species = data[1]['species']\n",
    "        if count == max_photo:\n",
    "            break\n",
    "        img = Image.open(f)\n",
    "        if gray == True:\n",
    "            img = ImageOps.grayscale(img)\n",
    "        img = img.resize((w,w))\n",
    "        data = np.array(img)\n",
    "        data.resize(1, w**2)\n",
    "        \n",
    "        if count < max_photo*split:\n",
    "            print(\"Train file \", count+1, \" loading.\")\n",
    "            X_train.append(data)\n",
    "            labels_train.append(species)\n",
    "        elif count >= max_photo*split:\n",
    "            print(\"Test file \", count+1, \" loading.\")\n",
    "            X_test.append(data)\n",
    "            labels_test.append(species)\n",
    "        \n",
    "        count +=1\n",
    "    \n",
    "    X_train = np.array(X_train)\n",
    "    X_test = np.array(X_test)\n",
    "    labels_train = np.array(labels_train)\n",
    "    labels_test = np.array(labels_test)\n",
    "    X_train = np.concatenate(X_train)\n",
    "    X_test = np.concatenate(X_test)\n",
    "    return X_train, labels_train, X_test, labels_test\n",
    "        "
   ]
  },
  {
   "cell_type": "code",
   "execution_count": 134,
   "id": "203989b4",
   "metadata": {},
   "outputs": [
    {
     "name": "stdout",
     "output_type": "stream",
     "text": [
      "Train file  1  loading.\n",
      "Train file  2  loading.\n",
      "Train file  3  loading.\n",
      "Train file  4  loading.\n",
      "Train file  5  loading.\n",
      "Train file  6  loading.\n",
      "Train file  7  loading.\n",
      "Train file  8  loading.\n",
      "Train file  9  loading.\n",
      "Train file  10  loading.\n",
      "Train file  11  loading.\n",
      "Train file  12  loading.\n",
      "Train file  13  loading.\n",
      "Train file  14  loading.\n",
      "Train file  15  loading.\n",
      "Train file  16  loading.\n",
      "Train file  17  loading.\n",
      "Train file  18  loading.\n",
      "Train file  19  loading.\n",
      "Train file  20  loading.\n",
      "Train file  21  loading.\n",
      "Train file  22  loading.\n",
      "Train file  23  loading.\n",
      "Train file  24  loading.\n",
      "Train file  25  loading.\n",
      "Train file  26  loading.\n",
      "Train file  27  loading.\n",
      "Train file  28  loading.\n",
      "Train file  29  loading.\n",
      "Train file  30  loading.\n",
      "Train file  31  loading.\n",
      "Train file  32  loading.\n",
      "Train file  33  loading.\n",
      "Train file  34  loading.\n",
      "Train file  35  loading.\n",
      "Train file  36  loading.\n",
      "Train file  37  loading.\n",
      "Train file  38  loading.\n",
      "Train file  39  loading.\n",
      "Train file  40  loading.\n",
      "Train file  41  loading.\n",
      "Train file  42  loading.\n",
      "Train file  43  loading.\n",
      "Train file  44  loading.\n",
      "Train file  45  loading.\n",
      "Train file  46  loading.\n",
      "Train file  47  loading.\n",
      "Train file  48  loading.\n",
      "Train file  49  loading.\n",
      "Train file  50  loading.\n",
      "Train file  51  loading.\n",
      "Train file  52  loading.\n",
      "Train file  53  loading.\n",
      "Train file  54  loading.\n",
      "Train file  55  loading.\n",
      "Train file  56  loading.\n",
      "Train file  57  loading.\n",
      "Train file  58  loading.\n",
      "Train file  59  loading.\n",
      "Train file  60  loading.\n",
      "Train file  61  loading.\n",
      "Train file  62  loading.\n",
      "Train file  63  loading.\n",
      "Train file  64  loading.\n",
      "Train file  65  loading.\n",
      "Train file  66  loading.\n",
      "Train file  67  loading.\n",
      "Train file  68  loading.\n",
      "Train file  69  loading.\n",
      "Train file  70  loading.\n",
      "Test file  71  loading.\n",
      "Test file  72  loading.\n",
      "Test file  73  loading.\n",
      "Test file  74  loading.\n",
      "Test file  75  loading.\n",
      "Test file  76  loading.\n",
      "Test file  77  loading.\n",
      "Test file  78  loading.\n",
      "Test file  79  loading.\n",
      "Test file  80  loading.\n",
      "Test file  81  loading.\n",
      "Test file  82  loading.\n",
      "Test file  83  loading.\n",
      "Test file  84  loading.\n",
      "Test file  85  loading.\n",
      "Test file  86  loading.\n",
      "Test file  87  loading.\n",
      "Test file  88  loading.\n",
      "Test file  89  loading.\n",
      "Test file  90  loading.\n",
      "Test file  91  loading.\n",
      "Test file  92  loading.\n",
      "Test file  93  loading.\n",
      "Test file  94  loading.\n",
      "Test file  95  loading.\n",
      "Test file  96  loading.\n",
      "Test file  97  loading.\n",
      "Test file  98  loading.\n",
      "Test file  99  loading.\n",
      "Test file  100  loading.\n",
      "(70, 4096)\n"
     ]
    }
   ],
   "source": [
    "X_train_64, y_train_64, X_test_64, y_test_64 = load_split_traindata(100, gray= True)\n",
    "print(X_train_64.shape)"
   ]
  },
  {
   "cell_type": "code",
   "execution_count": 135,
   "id": "4fb778af",
   "metadata": {},
   "outputs": [
    {
     "name": "stdout",
     "output_type": "stream",
     "text": [
      "Train file  1  loading.\n",
      "Train file  2  loading.\n",
      "Train file  3  loading.\n",
      "Train file  4  loading.\n",
      "Train file  5  loading.\n",
      "Train file  6  loading.\n",
      "Train file  7  loading.\n",
      "Train file  8  loading.\n",
      "Train file  9  loading.\n",
      "Train file  10  loading.\n",
      "Train file  11  loading.\n",
      "Train file  12  loading.\n",
      "Train file  13  loading.\n",
      "Train file  14  loading.\n",
      "Train file  15  loading.\n",
      "Train file  16  loading.\n",
      "Train file  17  loading.\n",
      "Train file  18  loading.\n",
      "Train file  19  loading.\n",
      "Train file  20  loading.\n",
      "Train file  21  loading.\n",
      "Train file  22  loading.\n",
      "Train file  23  loading.\n",
      "Train file  24  loading.\n",
      "Train file  25  loading.\n",
      "Train file  26  loading.\n",
      "Train file  27  loading.\n",
      "Train file  28  loading.\n",
      "Train file  29  loading.\n",
      "Train file  30  loading.\n",
      "Train file  31  loading.\n",
      "Train file  32  loading.\n",
      "Train file  33  loading.\n",
      "Train file  34  loading.\n",
      "Train file  35  loading.\n",
      "Train file  36  loading.\n",
      "Train file  37  loading.\n",
      "Train file  38  loading.\n",
      "Train file  39  loading.\n",
      "Train file  40  loading.\n",
      "Train file  41  loading.\n",
      "Train file  42  loading.\n",
      "Train file  43  loading.\n",
      "Train file  44  loading.\n",
      "Train file  45  loading.\n",
      "Train file  46  loading.\n",
      "Train file  47  loading.\n",
      "Train file  48  loading.\n",
      "Train file  49  loading.\n",
      "Train file  50  loading.\n",
      "Train file  51  loading.\n",
      "Train file  52  loading.\n",
      "Train file  53  loading.\n",
      "Train file  54  loading.\n",
      "Train file  55  loading.\n",
      "Train file  56  loading.\n",
      "Train file  57  loading.\n",
      "Train file  58  loading.\n",
      "Train file  59  loading.\n",
      "Train file  60  loading.\n",
      "Train file  61  loading.\n",
      "Train file  62  loading.\n",
      "Train file  63  loading.\n",
      "Train file  64  loading.\n",
      "Train file  65  loading.\n",
      "Train file  66  loading.\n",
      "Train file  67  loading.\n",
      "Train file  68  loading.\n",
      "Train file  69  loading.\n",
      "Train file  70  loading.\n",
      "Test file  71  loading.\n",
      "Test file  72  loading.\n",
      "Test file  73  loading.\n",
      "Test file  74  loading.\n",
      "Test file  75  loading.\n",
      "Test file  76  loading.\n",
      "Test file  77  loading.\n",
      "Test file  78  loading.\n",
      "Test file  79  loading.\n",
      "Test file  80  loading.\n",
      "Test file  81  loading.\n",
      "Test file  82  loading.\n",
      "Test file  83  loading.\n",
      "Test file  84  loading.\n",
      "Test file  85  loading.\n",
      "Test file  86  loading.\n",
      "Test file  87  loading.\n",
      "Test file  88  loading.\n",
      "Test file  89  loading.\n",
      "Test file  90  loading.\n",
      "Test file  91  loading.\n",
      "Test file  92  loading.\n",
      "Test file  93  loading.\n",
      "Test file  94  loading.\n",
      "Test file  95  loading.\n",
      "Test file  96  loading.\n",
      "Test file  97  loading.\n",
      "Test file  98  loading.\n",
      "Test file  99  loading.\n",
      "Test file  100  loading.\n",
      "(70, 16384)\n"
     ]
    }
   ],
   "source": [
    "X_train_128, y_train_128, X_test_128, y_test_128 = load_split_traindata(100, w= 128, gray= True)\n",
    "print(X_train_128.shape)"
   ]
  },
  {
   "cell_type": "code",
   "execution_count": 127,
   "id": "9615d20e",
   "metadata": {},
   "outputs": [
    {
     "ename": "TypeError",
     "evalue": "Invalid shape (4096,) for image data",
     "output_type": "error",
     "traceback": [
      "\u001b[1;31m---------------------------------------------------------------------------\u001b[0m",
      "\u001b[1;31mTypeError\u001b[0m                                 Traceback (most recent call last)",
      "\u001b[1;32m~\\AppData\\Local\\Temp/ipykernel_1900/4109691070.py\u001b[0m in \u001b[0;36m<module>\u001b[1;34m\u001b[0m\n\u001b[1;32m----> 1\u001b[1;33m \u001b[0mplt\u001b[0m\u001b[1;33m.\u001b[0m\u001b[0mimshow\u001b[0m\u001b[1;33m(\u001b[0m\u001b[0mX_train_64\u001b[0m\u001b[1;33m[\u001b[0m\u001b[1;36m69\u001b[0m\u001b[1;33m,\u001b[0m\u001b[1;33m:\u001b[0m\u001b[1;33m]\u001b[0m\u001b[1;33m,\u001b[0m \u001b[0mcmap\u001b[0m\u001b[1;33m=\u001b[0m \u001b[1;34m'gray'\u001b[0m\u001b[1;33m)\u001b[0m\u001b[1;33m\u001b[0m\u001b[1;33m\u001b[0m\u001b[0m\n\u001b[0m\u001b[0;32m      2\u001b[0m \u001b[0mplt\u001b[0m\u001b[1;33m.\u001b[0m\u001b[0mtitle\u001b[0m\u001b[1;33m(\u001b[0m\u001b[0my_train_64\u001b[0m\u001b[1;33m[\u001b[0m\u001b[1;36m69\u001b[0m\u001b[1;33m]\u001b[0m\u001b[1;33m)\u001b[0m\u001b[1;33m\u001b[0m\u001b[1;33m\u001b[0m\u001b[0m\n",
      "\u001b[1;32m~\\anaconda3\\lib\\site-packages\\matplotlib\\pyplot.py\u001b[0m in \u001b[0;36mimshow\u001b[1;34m(X, cmap, norm, aspect, interpolation, alpha, vmin, vmax, origin, extent, filternorm, filterrad, resample, url, data, **kwargs)\u001b[0m\n\u001b[0;32m   2901\u001b[0m         \u001b[0mfilternorm\u001b[0m\u001b[1;33m=\u001b[0m\u001b[1;32mTrue\u001b[0m\u001b[1;33m,\u001b[0m \u001b[0mfilterrad\u001b[0m\u001b[1;33m=\u001b[0m\u001b[1;36m4.0\u001b[0m\u001b[1;33m,\u001b[0m \u001b[0mresample\u001b[0m\u001b[1;33m=\u001b[0m\u001b[1;32mNone\u001b[0m\u001b[1;33m,\u001b[0m \u001b[0murl\u001b[0m\u001b[1;33m=\u001b[0m\u001b[1;32mNone\u001b[0m\u001b[1;33m,\u001b[0m\u001b[1;33m\u001b[0m\u001b[1;33m\u001b[0m\u001b[0m\n\u001b[0;32m   2902\u001b[0m         data=None, **kwargs):\n\u001b[1;32m-> 2903\u001b[1;33m     __ret = gca().imshow(\n\u001b[0m\u001b[0;32m   2904\u001b[0m         \u001b[0mX\u001b[0m\u001b[1;33m,\u001b[0m \u001b[0mcmap\u001b[0m\u001b[1;33m=\u001b[0m\u001b[0mcmap\u001b[0m\u001b[1;33m,\u001b[0m \u001b[0mnorm\u001b[0m\u001b[1;33m=\u001b[0m\u001b[0mnorm\u001b[0m\u001b[1;33m,\u001b[0m \u001b[0maspect\u001b[0m\u001b[1;33m=\u001b[0m\u001b[0maspect\u001b[0m\u001b[1;33m,\u001b[0m\u001b[1;33m\u001b[0m\u001b[1;33m\u001b[0m\u001b[0m\n\u001b[0;32m   2905\u001b[0m         \u001b[0minterpolation\u001b[0m\u001b[1;33m=\u001b[0m\u001b[0minterpolation\u001b[0m\u001b[1;33m,\u001b[0m \u001b[0malpha\u001b[0m\u001b[1;33m=\u001b[0m\u001b[0malpha\u001b[0m\u001b[1;33m,\u001b[0m \u001b[0mvmin\u001b[0m\u001b[1;33m=\u001b[0m\u001b[0mvmin\u001b[0m\u001b[1;33m,\u001b[0m\u001b[1;33m\u001b[0m\u001b[1;33m\u001b[0m\u001b[0m\n",
      "\u001b[1;32m~\\anaconda3\\lib\\site-packages\\matplotlib\\__init__.py\u001b[0m in \u001b[0;36minner\u001b[1;34m(ax, data, *args, **kwargs)\u001b[0m\n\u001b[0;32m   1359\u001b[0m     \u001b[1;32mdef\u001b[0m \u001b[0minner\u001b[0m\u001b[1;33m(\u001b[0m\u001b[0max\u001b[0m\u001b[1;33m,\u001b[0m \u001b[1;33m*\u001b[0m\u001b[0margs\u001b[0m\u001b[1;33m,\u001b[0m \u001b[0mdata\u001b[0m\u001b[1;33m=\u001b[0m\u001b[1;32mNone\u001b[0m\u001b[1;33m,\u001b[0m \u001b[1;33m**\u001b[0m\u001b[0mkwargs\u001b[0m\u001b[1;33m)\u001b[0m\u001b[1;33m:\u001b[0m\u001b[1;33m\u001b[0m\u001b[1;33m\u001b[0m\u001b[0m\n\u001b[0;32m   1360\u001b[0m         \u001b[1;32mif\u001b[0m \u001b[0mdata\u001b[0m \u001b[1;32mis\u001b[0m \u001b[1;32mNone\u001b[0m\u001b[1;33m:\u001b[0m\u001b[1;33m\u001b[0m\u001b[1;33m\u001b[0m\u001b[0m\n\u001b[1;32m-> 1361\u001b[1;33m             \u001b[1;32mreturn\u001b[0m \u001b[0mfunc\u001b[0m\u001b[1;33m(\u001b[0m\u001b[0max\u001b[0m\u001b[1;33m,\u001b[0m \u001b[1;33m*\u001b[0m\u001b[0mmap\u001b[0m\u001b[1;33m(\u001b[0m\u001b[0msanitize_sequence\u001b[0m\u001b[1;33m,\u001b[0m \u001b[0margs\u001b[0m\u001b[1;33m)\u001b[0m\u001b[1;33m,\u001b[0m \u001b[1;33m**\u001b[0m\u001b[0mkwargs\u001b[0m\u001b[1;33m)\u001b[0m\u001b[1;33m\u001b[0m\u001b[1;33m\u001b[0m\u001b[0m\n\u001b[0m\u001b[0;32m   1362\u001b[0m \u001b[1;33m\u001b[0m\u001b[0m\n\u001b[0;32m   1363\u001b[0m         \u001b[0mbound\u001b[0m \u001b[1;33m=\u001b[0m \u001b[0mnew_sig\u001b[0m\u001b[1;33m.\u001b[0m\u001b[0mbind\u001b[0m\u001b[1;33m(\u001b[0m\u001b[0max\u001b[0m\u001b[1;33m,\u001b[0m \u001b[1;33m*\u001b[0m\u001b[0margs\u001b[0m\u001b[1;33m,\u001b[0m \u001b[1;33m**\u001b[0m\u001b[0mkwargs\u001b[0m\u001b[1;33m)\u001b[0m\u001b[1;33m\u001b[0m\u001b[1;33m\u001b[0m\u001b[0m\n",
      "\u001b[1;32m~\\anaconda3\\lib\\site-packages\\matplotlib\\axes\\_axes.py\u001b[0m in \u001b[0;36mimshow\u001b[1;34m(self, X, cmap, norm, aspect, interpolation, alpha, vmin, vmax, origin, extent, filternorm, filterrad, resample, url, **kwargs)\u001b[0m\n\u001b[0;32m   5607\u001b[0m                               resample=resample, **kwargs)\n\u001b[0;32m   5608\u001b[0m \u001b[1;33m\u001b[0m\u001b[0m\n\u001b[1;32m-> 5609\u001b[1;33m         \u001b[0mim\u001b[0m\u001b[1;33m.\u001b[0m\u001b[0mset_data\u001b[0m\u001b[1;33m(\u001b[0m\u001b[0mX\u001b[0m\u001b[1;33m)\u001b[0m\u001b[1;33m\u001b[0m\u001b[1;33m\u001b[0m\u001b[0m\n\u001b[0m\u001b[0;32m   5610\u001b[0m         \u001b[0mim\u001b[0m\u001b[1;33m.\u001b[0m\u001b[0mset_alpha\u001b[0m\u001b[1;33m(\u001b[0m\u001b[0malpha\u001b[0m\u001b[1;33m)\u001b[0m\u001b[1;33m\u001b[0m\u001b[1;33m\u001b[0m\u001b[0m\n\u001b[0;32m   5611\u001b[0m         \u001b[1;32mif\u001b[0m \u001b[0mim\u001b[0m\u001b[1;33m.\u001b[0m\u001b[0mget_clip_path\u001b[0m\u001b[1;33m(\u001b[0m\u001b[1;33m)\u001b[0m \u001b[1;32mis\u001b[0m \u001b[1;32mNone\u001b[0m\u001b[1;33m:\u001b[0m\u001b[1;33m\u001b[0m\u001b[1;33m\u001b[0m\u001b[0m\n",
      "\u001b[1;32m~\\anaconda3\\lib\\site-packages\\matplotlib\\image.py\u001b[0m in \u001b[0;36mset_data\u001b[1;34m(self, A)\u001b[0m\n\u001b[0;32m    707\u001b[0m         if not (self._A.ndim == 2\n\u001b[0;32m    708\u001b[0m                 or self._A.ndim == 3 and self._A.shape[-1] in [3, 4]):\n\u001b[1;32m--> 709\u001b[1;33m             raise TypeError(\"Invalid shape {} for image data\"\n\u001b[0m\u001b[0;32m    710\u001b[0m                             .format(self._A.shape))\n\u001b[0;32m    711\u001b[0m \u001b[1;33m\u001b[0m\u001b[0m\n",
      "\u001b[1;31mTypeError\u001b[0m: Invalid shape (4096,) for image data"
     ]
    },
    {
     "data": {
      "image/png": "[encoded data removed]",
      "text/plain": [
       "<Figure size 432x288 with 1 Axes>"
      ]
     },
     "metadata": {
      "needs_background": "light"
     },
     "output_type": "display_data"
    }
   ],
   "source": [
    "plt.imshow(X_train_64[69,:], cmap= 'gray')\n",
    "plt.title(y_train_64[69])"
   ]
  },
  {
   "cell_type": "code",
   "execution_count": 128,
   "id": "7912d763",
   "metadata": {},
   "outputs": [
    {
     "ename": "TypeError",
     "evalue": "Invalid shape (16384,) for image data",
     "output_type": "error",
     "traceback": [
      "\u001b[1;31m---------------------------------------------------------------------------\u001b[0m",
      "\u001b[1;31mTypeError\u001b[0m                                 Traceback (most recent call last)",
      "\u001b[1;32m~\\AppData\\Local\\Temp/ipykernel_1900/3708470670.py\u001b[0m in \u001b[0;36m<module>\u001b[1;34m\u001b[0m\n\u001b[1;32m----> 1\u001b[1;33m \u001b[0mplt\u001b[0m\u001b[1;33m.\u001b[0m\u001b[0mimshow\u001b[0m\u001b[1;33m(\u001b[0m\u001b[0mX_train_128\u001b[0m\u001b[1;33m[\u001b[0m\u001b[1;36m69\u001b[0m\u001b[1;33m]\u001b[0m\u001b[1;33m,\u001b[0m \u001b[0mcmap\u001b[0m\u001b[1;33m=\u001b[0m \u001b[1;34m'gray'\u001b[0m\u001b[1;33m)\u001b[0m\u001b[1;33m\u001b[0m\u001b[1;33m\u001b[0m\u001b[0m\n\u001b[0m\u001b[0;32m      2\u001b[0m \u001b[0mplt\u001b[0m\u001b[1;33m.\u001b[0m\u001b[0mtitle\u001b[0m\u001b[1;33m(\u001b[0m\u001b[0my_train_128\u001b[0m\u001b[1;33m[\u001b[0m\u001b[1;36m69\u001b[0m\u001b[1;33m]\u001b[0m\u001b[1;33m)\u001b[0m\u001b[1;33m\u001b[0m\u001b[1;33m\u001b[0m\u001b[0m\n",
      "\u001b[1;32m~\\anaconda3\\lib\\site-packages\\matplotlib\\pyplot.py\u001b[0m in \u001b[0;36mimshow\u001b[1;34m(X, cmap, norm, aspect, interpolation, alpha, vmin, vmax, origin, extent, filternorm, filterrad, resample, url, data, **kwargs)\u001b[0m\n\u001b[0;32m   2901\u001b[0m         \u001b[0mfilternorm\u001b[0m\u001b[1;33m=\u001b[0m\u001b[1;32mTrue\u001b[0m\u001b[1;33m,\u001b[0m \u001b[0mfilterrad\u001b[0m\u001b[1;33m=\u001b[0m\u001b[1;36m4.0\u001b[0m\u001b[1;33m,\u001b[0m \u001b[0mresample\u001b[0m\u001b[1;33m=\u001b[0m\u001b[1;32mNone\u001b[0m\u001b[1;33m,\u001b[0m \u001b[0murl\u001b[0m\u001b[1;33m=\u001b[0m\u001b[1;32mNone\u001b[0m\u001b[1;33m,\u001b[0m\u001b[1;33m\u001b[0m\u001b[1;33m\u001b[0m\u001b[0m\n\u001b[0;32m   2902\u001b[0m         data=None, **kwargs):\n\u001b[1;32m-> 2903\u001b[1;33m     __ret = gca().imshow(\n\u001b[0m\u001b[0;32m   2904\u001b[0m         \u001b[0mX\u001b[0m\u001b[1;33m,\u001b[0m \u001b[0mcmap\u001b[0m\u001b[1;33m=\u001b[0m\u001b[0mcmap\u001b[0m\u001b[1;33m,\u001b[0m \u001b[0mnorm\u001b[0m\u001b[1;33m=\u001b[0m\u001b[0mnorm\u001b[0m\u001b[1;33m,\u001b[0m \u001b[0maspect\u001b[0m\u001b[1;33m=\u001b[0m\u001b[0maspect\u001b[0m\u001b[1;33m,\u001b[0m\u001b[1;33m\u001b[0m\u001b[1;33m\u001b[0m\u001b[0m\n\u001b[0;32m   2905\u001b[0m         \u001b[0minterpolation\u001b[0m\u001b[1;33m=\u001b[0m\u001b[0minterpolation\u001b[0m\u001b[1;33m,\u001b[0m \u001b[0malpha\u001b[0m\u001b[1;33m=\u001b[0m\u001b[0malpha\u001b[0m\u001b[1;33m,\u001b[0m \u001b[0mvmin\u001b[0m\u001b[1;33m=\u001b[0m\u001b[0mvmin\u001b[0m\u001b[1;33m,\u001b[0m\u001b[1;33m\u001b[0m\u001b[1;33m\u001b[0m\u001b[0m\n",
      "\u001b[1;32m~\\anaconda3\\lib\\site-packages\\matplotlib\\__init__.py\u001b[0m in \u001b[0;36minner\u001b[1;34m(ax, data, *args, **kwargs)\u001b[0m\n\u001b[0;32m   1359\u001b[0m     \u001b[1;32mdef\u001b[0m \u001b[0minner\u001b[0m\u001b[1;33m(\u001b[0m\u001b[0max\u001b[0m\u001b[1;33m,\u001b[0m \u001b[1;33m*\u001b[0m\u001b[0margs\u001b[0m\u001b[1;33m,\u001b[0m \u001b[0mdata\u001b[0m\u001b[1;33m=\u001b[0m\u001b[1;32mNone\u001b[0m\u001b[1;33m,\u001b[0m \u001b[1;33m**\u001b[0m\u001b[0mkwargs\u001b[0m\u001b[1;33m)\u001b[0m\u001b[1;33m:\u001b[0m\u001b[1;33m\u001b[0m\u001b[1;33m\u001b[0m\u001b[0m\n\u001b[0;32m   1360\u001b[0m         \u001b[1;32mif\u001b[0m \u001b[0mdata\u001b[0m \u001b[1;32mis\u001b[0m \u001b[1;32mNone\u001b[0m\u001b[1;33m:\u001b[0m\u001b[1;33m\u001b[0m\u001b[1;33m\u001b[0m\u001b[0m\n\u001b[1;32m-> 1361\u001b[1;33m             \u001b[1;32mreturn\u001b[0m \u001b[0mfunc\u001b[0m\u001b[1;33m(\u001b[0m\u001b[0max\u001b[0m\u001b[1;33m,\u001b[0m \u001b[1;33m*\u001b[0m\u001b[0mmap\u001b[0m\u001b[1;33m(\u001b[0m\u001b[0msanitize_sequence\u001b[0m\u001b[1;33m,\u001b[0m \u001b[0margs\u001b[0m\u001b[1;33m)\u001b[0m\u001b[1;33m,\u001b[0m \u001b[1;33m**\u001b[0m\u001b[0mkwargs\u001b[0m\u001b[1;33m)\u001b[0m\u001b[1;33m\u001b[0m\u001b[1;33m\u001b[0m\u001b[0m\n\u001b[0m\u001b[0;32m   1362\u001b[0m \u001b[1;33m\u001b[0m\u001b[0m\n\u001b[0;32m   1363\u001b[0m         \u001b[0mbound\u001b[0m \u001b[1;33m=\u001b[0m \u001b[0mnew_sig\u001b[0m\u001b[1;33m.\u001b[0m\u001b[0mbind\u001b[0m\u001b[1;33m(\u001b[0m\u001b[0max\u001b[0m\u001b[1;33m,\u001b[0m \u001b[1;33m*\u001b[0m\u001b[0margs\u001b[0m\u001b[1;33m,\u001b[0m \u001b[1;33m**\u001b[0m\u001b[0mkwargs\u001b[0m\u001b[1;33m)\u001b[0m\u001b[1;33m\u001b[0m\u001b[1;33m\u001b[0m\u001b[0m\n",
      "\u001b[1;32m~\\anaconda3\\lib\\site-packages\\matplotlib\\axes\\_axes.py\u001b[0m in \u001b[0;36mimshow\u001b[1;34m(self, X, cmap, norm, aspect, interpolation, alpha, vmin, vmax, origin, extent, filternorm, filterrad, resample, url, **kwargs)\u001b[0m\n\u001b[0;32m   5607\u001b[0m                               resample=resample, **kwargs)\n\u001b[0;32m   5608\u001b[0m \u001b[1;33m\u001b[0m\u001b[0m\n\u001b[1;32m-> 5609\u001b[1;33m         \u001b[0mim\u001b[0m\u001b[1;33m.\u001b[0m\u001b[0mset_data\u001b[0m\u001b[1;33m(\u001b[0m\u001b[0mX\u001b[0m\u001b[1;33m)\u001b[0m\u001b[1;33m\u001b[0m\u001b[1;33m\u001b[0m\u001b[0m\n\u001b[0m\u001b[0;32m   5610\u001b[0m         \u001b[0mim\u001b[0m\u001b[1;33m.\u001b[0m\u001b[0mset_alpha\u001b[0m\u001b[1;33m(\u001b[0m\u001b[0malpha\u001b[0m\u001b[1;33m)\u001b[0m\u001b[1;33m\u001b[0m\u001b[1;33m\u001b[0m\u001b[0m\n\u001b[0;32m   5611\u001b[0m         \u001b[1;32mif\u001b[0m \u001b[0mim\u001b[0m\u001b[1;33m.\u001b[0m\u001b[0mget_clip_path\u001b[0m\u001b[1;33m(\u001b[0m\u001b[1;33m)\u001b[0m \u001b[1;32mis\u001b[0m \u001b[1;32mNone\u001b[0m\u001b[1;33m:\u001b[0m\u001b[1;33m\u001b[0m\u001b[1;33m\u001b[0m\u001b[0m\n",
      "\u001b[1;32m~\\anaconda3\\lib\\site-packages\\matplotlib\\image.py\u001b[0m in \u001b[0;36mset_data\u001b[1;34m(self, A)\u001b[0m\n\u001b[0;32m    707\u001b[0m         if not (self._A.ndim == 2\n\u001b[0;32m    708\u001b[0m                 or self._A.ndim == 3 and self._A.shape[-1] in [3, 4]):\n\u001b[1;32m--> 709\u001b[1;33m             raise TypeError(\"Invalid shape {} for image data\"\n\u001b[0m\u001b[0;32m    710\u001b[0m                             .format(self._A.shape))\n\u001b[0;32m    711\u001b[0m \u001b[1;33m\u001b[0m\u001b[0m\n",
      "\u001b[1;31mTypeError\u001b[0m: Invalid shape (16384,) for image data"
     ]
    },
    {
     "data": {
      "image/png": "[encoded data removed]",
      "text/plain": [
       "<Figure size 432x288 with 1 Axes>"
      ]
     },
     "metadata": {
      "needs_background": "light"
     },
     "output_type": "display_data"
    }
   ],
   "source": [
    "plt.imshow(X_train_128[69], cmap= 'gray')\n",
    "plt.title(y_train_128[69])"
   ]
  },
  {
   "cell_type": "code",
   "execution_count": 136,
   "id": "a2ca2204",
   "metadata": {},
   "outputs": [
    {
     "name": "stdout",
     "output_type": "stream",
     "text": [
      "64 pixel random forest accuracy:  0.23333333333333334\n",
      "128 pixel random forest accuracy:  0.23333333333333334\n"
     ]
    }
   ],
   "source": [
    "rf_100_64 = RandomForestClassifier(n_estimators = 5, random_state= 42)\n",
    "rf_100_128 = RandomForestClassifier(n_estimators = 5, random_state= 42)\n",
    "rf_100_64.fit(X_train_64, y_train_64)\n",
    "rf_100_128.fit(X_train_128, y_train_128)\n",
    "rf_100_64.predict(X_test_64)\n",
    "rf_100_128.predict(X_test_128)\n",
    "print(\"64 pixel random forest accuracy: \", rf_100_64.score(X_test_64, y_test_64))\n",
    "print(\"128 pixel random forest accuracy: \", rf_100_128.score(X_test_128, y_test_128))"
   ]
  },
  {
   "cell_type": "code",
   "execution_count": null,
   "id": "2529ed74",
   "metadata": {},
   "outputs": [],
   "source": []
  },
  {
   "cell_type": "code",
   "execution_count": 137,
   "id": "152af54a",
   "metadata": {},
   "outputs": [
    {
     "name": "stdout",
     "output_type": "stream",
     "text": [
      "64 pixel knn accuracy:  0.26666666666666666\n",
      "128 pixel knn accuracy:  0.3\n"
     ]
    }
   ],
   "source": [
    "knn_100_64 = KNeighborsClassifier()\n",
    "knn_100_128 = KNeighborsClassifier()\n",
    "knn_100_64.fit(X_train_64, y_train_64)\n",
    "knn_100_128.fit(X_train_128, y_train_128)\n",
    "knn_100_64.predict(X_test_64)\n",
    "knn_100_128.predict(X_test_128)\n",
    "print(\"64 pixel knn accuracy: \", knn_100_64.score(X_test_64, y_test_64))\n",
    "print(\"128 pixel knn accuracy: \", knn_100_128.score(X_test_128, y_test_128))"
   ]
  },
  {
   "cell_type": "code",
   "execution_count": 138,
   "id": "556b2b0d",
   "metadata": {},
   "outputs": [
    {
     "name": "stdout",
     "output_type": "stream",
     "text": [
      "64 pixel SVC accuracy:  0.3\n",
      "128 pixel SVC accuracy:  0.3\n"
     ]
    }
   ],
   "source": [
    "svc_100_64 = SVC()\n",
    "svc_100_128 = SVC()\n",
    "svc_100_64.fit(X_train_64, y_train_64)\n",
    "svc_100_128.fit(X_train_128, y_train_128)\n",
    "svc_100_64.predict(X_test_64)\n",
    "svc_100_128.predict(X_test_128)\n",
    "print(\"64 pixel SVC accuracy: \", svc_100_64.score(X_test_64, y_test_64))\n",
    "print(\"128 pixel SVC accuracy: \", svc_100_128.score(X_test_128, y_test_128))"
   ]
  },
  {
   "cell_type": "code",
   "execution_count": null,
   "id": "8fd42fde",
   "metadata": {},
   "outputs": [],
   "source": []
  }
 ],
 "metadata": {
  "kernelspec": {
   "display_name": "Python 3 (ipykernel)",
   "language": "python",
   "name": "python3"
  },
  "language_info": {
   "codemirror_mode": {
    "name": "ipython",
    "version": 3
   },
   "file_extension": ".py",
   "mimetype": "text/x-python",
   "name": "python",
   "nbconvert_exporter": "python",
   "pygments_lexer": "ipython3",
   "version": "3.9.7"
  }
 },
 "nbformat": 4,
 "nbformat_minor": 5
}
