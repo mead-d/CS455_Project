{
 "cells": [
  {
   "cell_type": "code",
   "execution_count": 32,
   "id": "b8da57a8",
   "metadata": {},
   "outputs": [],
   "source": [
    "import os, glob\n",
    "import numpy as np\n",
    "import matplotlib.pyplot as plt\n",
    "import pandas as pd\n",
    "from PIL import Image"
   ]
  },
  {
   "cell_type": "code",
   "execution_count": 33,
   "id": "8d392a32",
   "metadata": {},
   "outputs": [],
   "source": [
    "work_dir = \"C:/Users/hevyp/Documents/Jupyter_Workspace/AI_CS455/happy-whale-and-dolphin/\"\n",
    "X_train = []\n",
    "X_test = []\n",
    "labels_train = []\n",
    "labels_test = []"
   ]
  },
  {
   "cell_type": "code",
   "execution_count": 34,
   "id": "f80618b1",
   "metadata": {},
   "outputs": [
    {
     "name": "stdout",
     "output_type": "stream",
     "text": [
      "['00021adfb725ed.jpg' 'melon_headed_whale' 'cadddb1636b9']\n"
     ]
    }
   ],
   "source": [
    "train_data = np.array(pd.read_csv(work_dir+ 'train.csv', header= 0))\n",
    "print(train_data[0,:])"
   ]
  },
  {
   "cell_type": "code",
   "execution_count": 35,
   "id": "357b466e",
   "metadata": {},
   "outputs": [
    {
     "name": "stdout",
     "output_type": "stream",
     "text": [
      "(1, 51033)\n",
      "[['cadddb1636b9' '1a71fbb72250' '60008f293a2b' ... '5401612696b9'\n",
      "  '4000b3d7c24e' '4ddb2eeb5efb']]\n"
     ]
    }
   ],
   "source": [
    "#labels_train.append(train_data[:,2])\n",
    "#labels_train = np.array(labels_train)\n",
    "#print(labels_train.shape)\n",
    "#print(labels_train[:10])"
   ]
  },
  {
   "cell_type": "code",
   "execution_count": null,
   "id": "dd135eda",
   "metadata": {},
   "outputs": [],
   "source": [
    "w = 56\n",
    "for set in [\"train\", \"test\"]:\n",
    "    count = 0\n",
    "    image_dir = work_dir+ set+ \"_images\"\n",
    "    files = glob.glob(image_dir+ \"/*.jpg\")\n",
    "    for f in files:\n",
    "        count +=1\n",
    "        print(set, \" file \", count, \"loading.\")\n",
    "        img = Image.open(f)\n",
    "        #img = img.convert(\"RGB\")\n",
    "        img = img.resize((w,w))\n",
    "        data = np.array(img)\n",
    "        if set == \"train\":\n",
    "            X_train.append(data)\n",
    "            labels_train.append(train_data[train_data[:,0] == f, 2])\n",
    "        elif set == \"test\":\n",
    "            X_test.append(data)\n",
    "\n",
    "X_train = np.array(X_train)\n",
    "X_test = np.array(X_test)\n",
    "labels_train = np.array(labels_train)"
   ]
  },
  {
   "cell_type": "code",
   "execution_count": null,
   "id": "5686ffea",
   "metadata": {},
   "outputs": [],
   "source": [
    "print(X_train.shape, X_test.shape, labels_train.shape)"
   ]
  },
  {
   "cell_type": "code",
   "execution_count": null,
   "id": "db4e159d",
   "metadata": {},
   "outputs": [],
   "source": []
  }
 ],
 "metadata": {
  "kernelspec": {
   "display_name": "Python 3 (ipykernel)",
   "language": "python",
   "name": "python3"
  },
  "language_info": {
   "codemirror_mode": {
    "name": "ipython",
    "version": 3
   },
   "file_extension": ".py",
   "mimetype": "text/x-python",
   "name": "python",
   "nbconvert_exporter": "python",
   "pygments_lexer": "ipython3",
   "version": "3.9.7"
  }
 },
 "nbformat": 4,
 "nbformat_minor": 5
}
